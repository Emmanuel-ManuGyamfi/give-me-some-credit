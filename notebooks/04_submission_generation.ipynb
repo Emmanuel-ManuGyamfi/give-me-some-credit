{
 "cells": [
  {
   "cell_type": "markdown",
   "id": "2bf2dfd2",
   "metadata": {},
   "source": [
    "# Predicting Serious Delinquency in 2 years - Test Data"
   ]
  },
  {
   "cell_type": "code",
   "execution_count": 1,
   "id": "ff81016c",
   "metadata": {},
   "outputs": [],
   "source": [
    "import pandas as pd\n",
    "import numpy as np\n",
    "import pickle\n",
    "import joblib"
   ]
  },
  {
   "cell_type": "code",
   "execution_count": 2,
   "id": "d62552a4",
   "metadata": {},
   "outputs": [
    {
     "data": {
      "text/html": [
       "<div>\n",
       "<style scoped>\n",
       "    .dataframe tbody tr th:only-of-type {\n",
       "        vertical-align: middle;\n",
       "    }\n",
       "\n",
       "    .dataframe tbody tr th {\n",
       "        vertical-align: top;\n",
       "    }\n",
       "\n",
       "    .dataframe thead th {\n",
       "        text-align: right;\n",
       "    }\n",
       "</style>\n",
       "<table border=\"1\" class=\"dataframe\">\n",
       "  <thead>\n",
       "    <tr style=\"text-align: right;\">\n",
       "      <th></th>\n",
       "      <th>SeriousDlqin2yrs</th>\n",
       "      <th>RevolvingUtilizationOfUnsecuredLines</th>\n",
       "      <th>age</th>\n",
       "      <th>NumberOfTime30-59DaysPastDueNotWorse</th>\n",
       "      <th>DebtRatio</th>\n",
       "      <th>MonthlyIncome</th>\n",
       "      <th>NumberOfOpenCreditLinesAndLoans</th>\n",
       "      <th>NumberOfTimes90DaysLate</th>\n",
       "      <th>NumberRealEstateLoansOrLines</th>\n",
       "      <th>NumberOfTime60-89DaysPastDueNotWorse</th>\n",
       "      <th>NumberOfDependents</th>\n",
       "    </tr>\n",
       "  </thead>\n",
       "  <tbody>\n",
       "    <tr>\n",
       "      <th>0</th>\n",
       "      <td>NaN</td>\n",
       "      <td>0.885519</td>\n",
       "      <td>43</td>\n",
       "      <td>0</td>\n",
       "      <td>0.177513</td>\n",
       "      <td>5700.0</td>\n",
       "      <td>4</td>\n",
       "      <td>0</td>\n",
       "      <td>0</td>\n",
       "      <td>0</td>\n",
       "      <td>0.0</td>\n",
       "    </tr>\n",
       "    <tr>\n",
       "      <th>1</th>\n",
       "      <td>NaN</td>\n",
       "      <td>0.463295</td>\n",
       "      <td>57</td>\n",
       "      <td>0</td>\n",
       "      <td>0.527237</td>\n",
       "      <td>9141.0</td>\n",
       "      <td>15</td>\n",
       "      <td>0</td>\n",
       "      <td>4</td>\n",
       "      <td>0</td>\n",
       "      <td>2.0</td>\n",
       "    </tr>\n",
       "    <tr>\n",
       "      <th>2</th>\n",
       "      <td>NaN</td>\n",
       "      <td>0.043275</td>\n",
       "      <td>59</td>\n",
       "      <td>0</td>\n",
       "      <td>0.687648</td>\n",
       "      <td>5083.0</td>\n",
       "      <td>12</td>\n",
       "      <td>0</td>\n",
       "      <td>1</td>\n",
       "      <td>0</td>\n",
       "      <td>2.0</td>\n",
       "    </tr>\n",
       "    <tr>\n",
       "      <th>3</th>\n",
       "      <td>NaN</td>\n",
       "      <td>0.280308</td>\n",
       "      <td>38</td>\n",
       "      <td>1</td>\n",
       "      <td>0.925961</td>\n",
       "      <td>3200.0</td>\n",
       "      <td>7</td>\n",
       "      <td>0</td>\n",
       "      <td>2</td>\n",
       "      <td>0</td>\n",
       "      <td>0.0</td>\n",
       "    </tr>\n",
       "    <tr>\n",
       "      <th>4</th>\n",
       "      <td>NaN</td>\n",
       "      <td>1.000000</td>\n",
       "      <td>27</td>\n",
       "      <td>0</td>\n",
       "      <td>0.019917</td>\n",
       "      <td>3865.0</td>\n",
       "      <td>4</td>\n",
       "      <td>0</td>\n",
       "      <td>0</td>\n",
       "      <td>0</td>\n",
       "      <td>1.0</td>\n",
       "    </tr>\n",
       "  </tbody>\n",
       "</table>\n",
       "</div>"
      ],
      "text/plain": [
       "   SeriousDlqin2yrs  RevolvingUtilizationOfUnsecuredLines  age  \\\n",
       "0               NaN                              0.885519   43   \n",
       "1               NaN                              0.463295   57   \n",
       "2               NaN                              0.043275   59   \n",
       "3               NaN                              0.280308   38   \n",
       "4               NaN                              1.000000   27   \n",
       "\n",
       "   NumberOfTime30-59DaysPastDueNotWorse  DebtRatio  MonthlyIncome  \\\n",
       "0                                     0   0.177513         5700.0   \n",
       "1                                     0   0.527237         9141.0   \n",
       "2                                     0   0.687648         5083.0   \n",
       "3                                     1   0.925961         3200.0   \n",
       "4                                     0   0.019917         3865.0   \n",
       "\n",
       "   NumberOfOpenCreditLinesAndLoans  NumberOfTimes90DaysLate  \\\n",
       "0                                4                        0   \n",
       "1                               15                        0   \n",
       "2                               12                        0   \n",
       "3                                7                        0   \n",
       "4                                4                        0   \n",
       "\n",
       "   NumberRealEstateLoansOrLines  NumberOfTime60-89DaysPastDueNotWorse  \\\n",
       "0                             0                                     0   \n",
       "1                             4                                     0   \n",
       "2                             1                                     0   \n",
       "3                             2                                     0   \n",
       "4                             0                                     0   \n",
       "\n",
       "   NumberOfDependents  \n",
       "0                 0.0  \n",
       "1                 2.0  \n",
       "2                 2.0  \n",
       "3                 0.0  \n",
       "4                 1.0  "
      ]
     },
     "execution_count": 2,
     "metadata": {},
     "output_type": "execute_result"
    }
   ],
   "source": [
    "# Read in Data\n",
    "test = pd.read_csv(r\"/Users/emmanuel/Documents/Portfolio Projects/GiveMeSomeCredit/cs-test.csv\").drop(['Unnamed: 0'],axis=1)\n",
    "test.head()"
   ]
  },
  {
   "cell_type": "markdown",
   "id": "69a7e27d",
   "metadata": {},
   "source": [
    "## Data Clean & Feature Enigneering"
   ]
  },
  {
   "cell_type": "markdown",
   "id": "4a4780ca",
   "metadata": {},
   "source": [
    "#### Age"
   ]
  },
  {
   "cell_type": "code",
   "execution_count": 3,
   "id": "6bef81dc",
   "metadata": {},
   "outputs": [],
   "source": [
    "# Valid Age Ranges\n",
    "valid_age_min = 18\n",
    "valid_age_max = 100\n",
    "\n",
    "# Create an outlier flag for modelling\n",
    "test['Age_Outlier'] = ((test['age'] < valid_age_min) | (test['age'] > valid_age_max)).astype(int)\n",
    "\n",
    "# Replace out-of-range ages with NaN\n",
    "test.loc[test['Age_Outlier'] == 1, 'age'] = np.nan\n",
    "\n",
    "# Impute missing ages with median\n",
    "age_median = test['age'].median()\n",
    "test['age_imputed'] = test['age'].fillna(age_median)"
   ]
  },
  {
   "cell_type": "markdown",
   "id": "59633c21",
   "metadata": {},
   "source": [
    "#### Monthly Income"
   ]
  },
  {
   "cell_type": "code",
   "execution_count": 4,
   "id": "2bc94831",
   "metadata": {},
   "outputs": [],
   "source": [
    "# Cleaning Monthly Income Ouliers \n",
    "high_income = test[test['MonthlyIncome'] > 50000]\n",
    "p95_hi = high_income['MonthlyIncome'].quantile(0.95)\n",
    "\n",
    "# Flag for extreme values within high income group\n",
    "test['ExtremeIncomeFlag'] = 0\n",
    "test.loc[test['MonthlyIncome'] > p95_hi, 'ExtremeIncomeFlag'] = 1\n",
    "\n",
    "# Impute those with the global mean \n",
    "impute_value = test['MonthlyIncome'].mean()\n",
    "test['Missing_MonthlyIncome_Imputed'] = np.where(test['ExtremeIncomeFlag'] == 1, impute_value, test['MonthlyIncome'])"
   ]
  },
  {
   "cell_type": "markdown",
   "id": "fd9204b1",
   "metadata": {},
   "source": [
    "#### Revolving Utilsation of Unsecured Lines"
   ]
  },
  {
   "cell_type": "code",
   "execution_count": 5,
   "id": "8e67cf71",
   "metadata": {},
   "outputs": [],
   "source": [
    "# Impute extreme values with mean \n",
    "mean_2 = test.loc[test['RevolvingUtilizationOfUnsecuredLines'] <= 2, 'RevolvingUtilizationOfUnsecuredLines'].mean()\n",
    "\n",
    "test['RevolvingUtilization_cleaned'] = np.where(test['RevolvingUtilizationOfUnsecuredLines'] > 2, mean_2, test['RevolvingUtilizationOfUnsecuredLines'])"
   ]
  },
  {
   "cell_type": "markdown",
   "id": "ebb47264",
   "metadata": {},
   "source": [
    "#### Debt Ratio"
   ]
  },
  {
   "cell_type": "code",
   "execution_count": 6,
   "id": "053080d2",
   "metadata": {},
   "outputs": [],
   "source": [
    "# Handling Outliers\n",
    "# Cap extreme values at 5\n",
    "test['DebtRatio_cleaned'] = test['DebtRatio'].clip(upper=5)"
   ]
  },
  {
   "cell_type": "markdown",
   "id": "000ec6eb",
   "metadata": {},
   "source": [
    "#### Number Of Times 90 Days Late Distribution"
   ]
  },
  {
   "cell_type": "code",
   "execution_count": 7,
   "id": "4623bd75",
   "metadata": {},
   "outputs": [],
   "source": [
    "# Cap values at 10\n",
    "test['NumberOfTimes90DaysLate'] = test['NumberOfTimes90DaysLate'].clip(upper=6)"
   ]
  },
  {
   "cell_type": "markdown",
   "id": "c338467d",
   "metadata": {},
   "source": [
    "#### Number Of Time 60-89 Days Past Due Not Worse Distribution"
   ]
  },
  {
   "cell_type": "code",
   "execution_count": 8,
   "id": "e911946b",
   "metadata": {},
   "outputs": [],
   "source": [
    "# Cap extreme values\n",
    "test['NumberOfTime60-89DaysPastDueNotWorse'] = test['NumberOfTime60-89DaysPastDueNotWorse'].clip(upper=6)"
   ]
  },
  {
   "cell_type": "markdown",
   "id": "54a29304",
   "metadata": {},
   "source": [
    "#### NumberOfTime30-59DaysPastDueNotWorse"
   ]
  },
  {
   "cell_type": "code",
   "execution_count": 9,
   "id": "877692e6",
   "metadata": {},
   "outputs": [],
   "source": [
    "# Cap extreme values at 6\n",
    "test['NumberOfTime30-59DaysPastDueNotWorse'] = test['NumberOfTime30-59DaysPastDueNotWorse'].clip(upper=6)"
   ]
  },
  {
   "cell_type": "markdown",
   "id": "4c5a757d",
   "metadata": {},
   "source": [
    "#### Number of Open Credit Lines and Loans"
   ]
  },
  {
   "cell_type": "code",
   "execution_count": 10,
   "id": "95cfb34d",
   "metadata": {},
   "outputs": [],
   "source": [
    "# Cap values at 30\n",
    "test['NumberOfOpenCreditLinesAndLoans_cleaned'] = test['NumberOfOpenCreditLinesAndLoans'].clip(upper=30)"
   ]
  },
  {
   "cell_type": "markdown",
   "id": "1991b7fe",
   "metadata": {},
   "source": [
    "#### Number Real Estate Loans Or Lines Distribution"
   ]
  },
  {
   "cell_type": "code",
   "execution_count": 11,
   "id": "7ce24203",
   "metadata": {},
   "outputs": [],
   "source": [
    "# Cap extreme values at 5\n",
    "test['NumberRealEstateLoansOrLines_cleaned'] = test['NumberRealEstateLoansOrLines'].clip(upper=5)"
   ]
  },
  {
   "cell_type": "markdown",
   "id": "26ca560e",
   "metadata": {},
   "source": [
    "#### Number Of Dependents Distribution"
   ]
  },
  {
   "cell_type": "code",
   "execution_count": 12,
   "id": "ccebbf8b",
   "metadata": {},
   "outputs": [],
   "source": [
    "# Cap values at 5\n",
    "test['NumberOfDependentsMissing_cleaned'] = test['NumberOfDependents'].clip(upper=5)"
   ]
  },
  {
   "cell_type": "markdown",
   "id": "48d6348e",
   "metadata": {},
   "source": [
    "#### Total Delinquencies "
   ]
  },
  {
   "cell_type": "code",
   "execution_count": 13,
   "id": "de0f2985",
   "metadata": {},
   "outputs": [],
   "source": [
    "# Combined delinquency score\n",
    "test['TotalDelinquencies'] = (test['NumberOfTime30-59DaysPastDueNotWorse'] + test['NumberOfTime60-89DaysPastDueNotWorse'] +\n",
    "    test['NumberOfTimes90DaysLate'])"
   ]
  },
  {
   "cell_type": "markdown",
   "id": "a5768268",
   "metadata": {},
   "source": [
    "#### Dependents Per Income"
   ]
  },
  {
   "cell_type": "code",
   "execution_count": 14,
   "id": "aa0587aa",
   "metadata": {},
   "outputs": [],
   "source": [
    "test['DependentsPerIncome'] = test['NumberOfDependents'] / (test['MonthlyIncome'] + 1)"
   ]
  },
  {
   "cell_type": "code",
   "execution_count": 15,
   "id": "44ba7c51",
   "metadata": {},
   "outputs": [
    {
     "name": "stdout",
     "output_type": "stream",
     "text": [
      "<class 'pandas.core.frame.DataFrame'>\n",
      "RangeIndex: 101503 entries, 0 to 101502\n",
      "Data columns (total 22 columns):\n",
      " #   Column                                   Non-Null Count   Dtype  \n",
      "---  ------                                   --------------   -----  \n",
      " 0   SeriousDlqin2yrs                         0 non-null       float64\n",
      " 1   RevolvingUtilizationOfUnsecuredLines     101503 non-null  float64\n",
      " 2   age                                      101500 non-null  float64\n",
      " 3   NumberOfTime30-59DaysPastDueNotWorse     101503 non-null  int64  \n",
      " 4   DebtRatio                                101503 non-null  float64\n",
      " 5   MonthlyIncome                            81400 non-null   float64\n",
      " 6   NumberOfOpenCreditLinesAndLoans          101503 non-null  int64  \n",
      " 7   NumberOfTimes90DaysLate                  101503 non-null  int64  \n",
      " 8   NumberRealEstateLoansOrLines             101503 non-null  int64  \n",
      " 9   NumberOfTime60-89DaysPastDueNotWorse     101503 non-null  int64  \n",
      " 10  NumberOfDependents                       98877 non-null   float64\n",
      " 11  Age_Outlier                              101503 non-null  int64  \n",
      " 12  age_imputed                              101503 non-null  float64\n",
      " 13  ExtremeIncomeFlag                        101503 non-null  int64  \n",
      " 14  Missing_MonthlyIncome_Imputed            81400 non-null   float64\n",
      " 15  RevolvingUtilization_cleaned             101503 non-null  float64\n",
      " 16  DebtRatio_cleaned                        101503 non-null  float64\n",
      " 17  NumberOfOpenCreditLinesAndLoans_cleaned  101503 non-null  int64  \n",
      " 18  NumberRealEstateLoansOrLines_cleaned     101503 non-null  int64  \n",
      " 19  NumberOfDependentsMissing_cleaned        98877 non-null   float64\n",
      " 20  TotalDelinquencies                       101503 non-null  int64  \n",
      " 21  DependentsPerIncome                      81400 non-null   float64\n",
      "dtypes: float64(12), int64(10)\n",
      "memory usage: 17.0 MB\n"
     ]
    }
   ],
   "source": [
    "test.info()"
   ]
  },
  {
   "cell_type": "code",
   "execution_count": 16,
   "id": "fff9ec68",
   "metadata": {},
   "outputs": [],
   "source": [
    "# Final features selected for prediction on Test Data \n",
    "test = test[['SeriousDlqin2yrs', 'age_imputed', 'Missing_MonthlyIncome_Imputed', 'RevolvingUtilization_cleaned', \n",
    "             'DebtRatio_cleaned', 'NumberOfOpenCreditLinesAndLoans_cleaned', 'NumberRealEstateLoansOrLines_cleaned', 'NumberOfDependentsMissing_cleaned', \n",
    "             'DependentsPerIncome', 'TotalDelinquencies']]"
   ]
  },
  {
   "cell_type": "markdown",
   "id": "a1a291cb",
   "metadata": {},
   "source": [
    "### Get Predictions"
   ]
  },
  {
   "cell_type": "code",
   "execution_count": 17,
   "id": "96a1424d",
   "metadata": {},
   "outputs": [],
   "source": [
    "# Load model for predictions \n",
    "path = '/Users/emmanuel/Documents/Portfolio Projects/GiveMeSomeCredit/'\n",
    "# Read in pickled model\n",
    "with open(path + 'xgb_random.pickle', 'rb') as to_read:\n",
    "    model = pickle.load(to_read)"
   ]
  },
  {
   "cell_type": "code",
   "execution_count": 21,
   "id": "12b9d5bc",
   "metadata": {},
   "outputs": [],
   "source": [
    "# Create an ID\n",
    "test[\"Id\"] = test.index + 1\n",
    "# Drop SeriousDlqin2yrs variable\n",
    "X_features = test.drop(columns=[\"SeriousDlqin2yrs\"])"
   ]
  },
  {
   "cell_type": "code",
   "execution_count": 23,
   "id": "eb639b8c",
   "metadata": {},
   "outputs": [],
   "source": [
    "# Drop the Id column before prediction\n",
    "X_no_id = X_features.drop(columns=[\"Id\"], errors=\"ignore\")\n",
    "\n",
    "# Predict probabilities\n",
    "y_prob = model.predict_proba(X_no_id)[:, 1]"
   ]
  },
  {
   "cell_type": "code",
   "execution_count": 26,
   "id": "7cf9d09c",
   "metadata": {},
   "outputs": [],
   "source": [
    "submission = pd.DataFrame({\n",
    "    \"Id\": X_features[\"Id\"],\n",
    "    \"Probability\": y_prob\n",
    "})\n",
    "submission.to_csv(\"/Users/emmanuel/Documents/Portfolio Projects/GiveMeSomeCredit/submission.csv\", index=False)"
   ]
  },
  {
   "cell_type": "code",
   "execution_count": 27,
   "id": "c430e6a4",
   "metadata": {},
   "outputs": [
    {
     "name": "stdout",
     "output_type": "stream",
     "text": [
      "Rows in test: 101503\n",
      "Rows in submission: 101503\n",
      "Duplicate Ids: 0\n",
      "Missing Probabilities: 0\n"
     ]
    }
   ],
   "source": [
    "print(\"Rows in test:\", len(X_features))\n",
    "print(\"Rows in submission:\", len(submission))\n",
    "print(\"Duplicate Ids:\", submission[\"Id\"].duplicated().sum())\n",
    "print(\"Missing Probabilities:\", submission[\"Probability\"].isna().sum())"
   ]
  },
  {
   "cell_type": "code",
   "execution_count": 30,
   "id": "05e73250",
   "metadata": {},
   "outputs": [],
   "source": [
    "# Basic structure\n",
    "assert list(submission.columns) == [\"Id\", \"Probability\"], \"Columns must be exactly ['Id','Probability']\"\n",
    "\n",
    "# Lengths match\n",
    "assert len(submission) == len(test), f\"Row count mismatch: sub={len(submission)} vs test={len(test)}\"\n",
    "\n",
    "# Id checks\n",
    "assert submission[\"Id\"].is_unique, \"Duplicate Ids found\"\n",
    "assert submission[\"Id\"].min() == 1 and submission[\"Id\"].max() == len(submission), \"Id must be 1..N sequential\"\n",
    "\n",
    "# Probability checks\n",
    "assert submission[\"Probability\"].isna().sum() == 0, \"Missing probabilities detected\"\n",
    "assert (submission[\"Probability\"].between(0, 1)).all(), \"Probabilities must be within [0,1]\""
   ]
  }
 ],
 "metadata": {
  "kernelspec": {
   "display_name": "Python 3",
   "language": "python",
   "name": "python3"
  },
  "language_info": {
   "codemirror_mode": {
    "name": "ipython",
    "version": 3
   },
   "file_extension": ".py",
   "mimetype": "text/x-python",
   "name": "python",
   "nbconvert_exporter": "python",
   "pygments_lexer": "ipython3",
   "version": "3.12.6"
  }
 },
 "nbformat": 4,
 "nbformat_minor": 5
}
